{
 "cells": [
  {
   "cell_type": "code",
   "execution_count": 39,
   "metadata": {},
   "outputs": [],
   "source": [
    "import os\n",
    "os.chdir('/Users/Halmagyi/Documents/Programming/Python/geo/BoundingBox')\n",
    "\n",
    "from importlib import reload\n",
    "import boundingbox.boundingbox; reload(boundingbox.boundingbox)\n",
    "from boundingbox.boundingbox import *\n",
    "import boundingbox.distances; reload(boundingbox.distances)\n",
    "from boundingbox.distances import *\n",
    "from haversine import haversine\n",
    "\n",
    "from boundingbox.coordinates import convert_latlon_degrees_to_radians\n",
    "\n",
    "import numpy as np\n",
    "\n",
    "paris = (48.8566, 2.3522)\n",
    "vincennes = (48.8283, 2.4330)\n",
    "boulogne = (48.8624, 2.2492)\n",
    "st_denis = (48.9362, 2.3574)\n",
    "orleans = (47.9030, 1.9093)\n",
    "\n",
    "suva = (18.1248, 178.4501)\n",
    "wallis = (13.2959, -176.2057)\n",
    "tubuo = (18.2356, -178.8107)\n",
    "labasa = (16.4308, 179.3630)\n",
    "\n",
    "places = [vincennes, boulogne, st_denis, orleans]"
   ]
  },
  {
   "cell_type": "code",
   "execution_count": 40,
   "metadata": {},
   "outputs": [
    {
     "name": "stdout",
     "output_type": "stream",
     "text": [
      "np.abs(source_radians[0]):  0.8527085313298616\n",
      "max_latitude_diff:  0.01569612305760477\n"
     ]
    }
   ],
   "source": [
    "boundingbox = BoundingBox(paris, 100)"
   ]
  },
  {
   "cell_type": "code",
   "execution_count": 41,
   "metadata": {},
   "outputs": [
    {
     "name": "stdout",
     "output_type": "stream",
     "text": [
      "np.abs(source_radians[0]):  0.8527085313298616\n",
      "max_latitude_diff:  0.01569612305760477\n"
     ]
    },
    {
     "data": {
      "text/plain": [
       "{'front': {'north': 49.75592160591873,\n",
       "  'south': 47.957278394081264,\n",
       "  'east': 3.7191361681895785,\n",
       "  'west': 0.9852638318104142}}"
      ]
     },
     "execution_count": 41,
     "metadata": {},
     "output_type": "execute_result"
    }
   ],
   "source": [
    "paris_radians = convert_latlon_degrees_to_radians(paris)\n",
    "boundingbox.make_bounding_box(paris_radians, 100)"
   ]
  },
  {
   "cell_type": "code",
   "execution_count": 31,
   "metadata": {},
   "outputs": [
    {
     "data": {
      "text/plain": [
       "'km'"
      ]
     },
     "execution_count": 31,
     "metadata": {},
     "output_type": "execute_result"
    }
   ],
   "source": [
    "boundingbox.units"
   ]
  },
  {
   "cell_type": "code",
   "execution_count": 32,
   "metadata": {},
   "outputs": [
    {
     "data": {
      "text/plain": [
       "{'front': {'north': 49.75592160591873,\n",
       "  'south': 47.957278394081264,\n",
       "  'east': 3.7191361681895785,\n",
       "  'west': 0.9852638318104142}}"
      ]
     },
     "execution_count": 32,
     "metadata": {},
     "output_type": "execute_result"
    }
   ],
   "source": [
    "boundingbox.bbox"
   ]
  },
  {
   "cell_type": "code",
   "execution_count": 7,
   "metadata": {},
   "outputs": [
    {
     "data": {
      "text/plain": [
       "1.0"
      ]
     },
     "execution_count": 7,
     "metadata": {},
     "output_type": "execute_result"
    }
   ],
   "source": [
    "boundingbox.make_max_latitude_diff(6371)"
   ]
  },
  {
   "cell_type": "code",
   "execution_count": 12,
   "metadata": {},
   "outputs": [
    {
     "data": {
      "text/plain": [
       "0.023857536799503094"
      ]
     },
     "execution_count": 12,
     "metadata": {},
     "output_type": "execute_result"
    }
   ],
   "source": [
    "boundingbox.make_max_longitude_diff(convert_latlon_degrees_to_radians(paris), 100)"
   ]
  },
  {
   "cell_type": "code",
   "execution_count": 13,
   "metadata": {},
   "outputs": [
    {
     "data": {
      "text/plain": [
       "(0.0, 0.0)"
      ]
     },
     "execution_count": 13,
     "metadata": {},
     "output_type": "execute_result"
    }
   ],
   "source": []
  },
  {
   "cell_type": "code",
   "execution_count": 18,
   "metadata": {},
   "outputs": [
    {
     "name": "stdout",
     "output_type": "stream",
     "text": [
      "(0.0, 0.0)\n",
      "0.0 0.0\n",
      "(-0.7853981633974483, -0.7853981633974483)\n"
     ]
    }
   ],
   "source": [
    "latlon_degrees_1 = (0,0)\n",
    "latlon_degrees_2 = (45, 45)\n",
    "latlon_degrees_3 = (-45, -45)\n",
    "print(convert_latlon_degrees_to_radians(latlon_degrees_1))\n",
    "\n",
    "latlon_rad_2 = convert_latlon_degrees_to_radians(latlon_degrees_2) \n",
    "print(latlon_rad_2[0] - np.pi/4, latlon_rad_2[1] - np.pi/4)\n",
    "print(convert_latlon_degrees_to_radians(latlon_degrees_3))"
   ]
  },
  {
   "cell_type": "code",
   "execution_count": 21,
   "metadata": {},
   "outputs": [
    {
     "data": {
      "text/plain": [
       "array([[(48.8283, 2.433), 6.698235303709655],\n",
       "       [(48.8624, 2.2492), 7.562627816217736],\n",
       "       [(48.9362, 2.3574), 8.859287406231937],\n",
       "       [(47.903, 1.9093), 110.96572196425218]], dtype=object)"
      ]
     },
     "execution_count": 21,
     "metadata": {},
     "output_type": "execute_result"
    }
   ],
   "source": [
    "boundingbox.compute_distances_from_source(paris, places)"
   ]
  },
  {
   "cell_type": "code",
   "execution_count": null,
   "metadata": {},
   "outputs": [],
   "source": []
  }
 ],
 "metadata": {
  "kernelspec": {
   "display_name": "Python 3",
   "language": "python",
   "name": "python3"
  },
  "language_info": {
   "codemirror_mode": {
    "name": "ipython",
    "version": 3
   },
   "file_extension": ".py",
   "mimetype": "text/x-python",
   "name": "python",
   "nbconvert_exporter": "python",
   "pygments_lexer": "ipython3",
   "version": "3.7.2"
  }
 },
 "nbformat": 4,
 "nbformat_minor": 2
}
