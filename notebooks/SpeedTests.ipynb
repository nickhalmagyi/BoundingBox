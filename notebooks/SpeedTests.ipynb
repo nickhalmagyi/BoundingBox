{
 "cells": [
  {
   "cell_type": "code",
   "execution_count": null,
   "metadata": {},
   "outputs": [],
   "source": [
    "import os\n",
    "os.chdir('/Users/Halmagyi/Documents/Programming/Python/geo/BoundingBox')"
   ]
  },
  {
   "cell_type": "code",
   "execution_count": 2,
   "metadata": {},
   "outputs": [],
   "source": [
    "import numpy as np\n",
    "import numpy.random as  random\n",
    "import time\n",
    "from boundingbox.distances import get_points_within_distance, get_closest_points\n",
    "\n",
    "paris = (48.8566, 2.3522)"
   ]
  },
  {
   "cell_type": "code",
   "execution_count": 3,
   "metadata": {},
   "outputs": [
    {
     "name": "stdout",
     "output_type": "stream",
     "text": [
      "time to get points within distance for 10000000 targets:  0.11534285545349121\n",
      "[[array([48.83858732,  2.41881998]) 5.270250325165017]\n",
      " [array([48.88917059,  2.40923178]) 5.524017025981825]\n",
      " [array([48.83362885,  2.42040989]) 5.606999854298047]\n",
      " [array([48.90154185,  2.39614851]) 5.941542010005369]\n",
      " [array([48.87597517,  2.24770114]) 7.941508986521551]\n",
      " [array([48.81471941,  2.26055515]) 8.165682629956834]\n",
      " [array([48.77885623,  2.30368153]) 9.346158747951653]\n",
      " [array([48.92845287,  2.42777639]) 9.714070442428673]\n",
      " [array([48.88091351,  2.22117504]) 9.957541613243016]]\n"
     ]
    }
   ],
   "source": [
    "N = 10**7\n",
    "lats = (180 * (random.random(N)-1/2)).reshape(N,1)\n",
    "lons = (360 * (random.random(N)-1/2)).reshape(N,1)\n",
    "targets = np.concatenate([lats, lons], axis=1)\n",
    "\n",
    "start = time.time()\n",
    "pts = get_points_within_distance(paris, targets, 10)\n",
    "print(\"time to get points within distance for {} targets: \".format(len(targets)), time.time()-start)\n",
    "print(pts)"
   ]
  },
  {
   "cell_type": "code",
   "execution_count": 6,
   "metadata": {},
   "outputs": [
    {
     "name": "stdout",
     "output_type": "stream",
     "text": [
      "time to get closest points  for 10000000 targets:  0.13918399810791016\n",
      "[[array([48.847328  ,  2.28375484]) 5.112961410016256]\n",
      " [array([48.78337047,  2.37017526]) 8.248427240121995]\n",
      " [array([48.90622019,  2.44919243]) 8.985895305493882]\n",
      " [array([48.80779972,  2.24069009]) 9.801264543026907]\n",
      " [array([48.94602041,  2.38403293]) 10.211735532291542]\n",
      " [array([48.77743691,  2.44199731]) 10.986933443858707]\n",
      " [array([48.94232331,  2.26090493]) 11.635902202527559]\n",
      " [array([48.75506265,  2.29575303]) 12.023442610601919]\n",
      " [array([48.80578794,  2.49838412]) 12.10039574175975]\n",
      " [array([48.96114054,  2.29388256]) 12.381103414271527]]\n"
     ]
    }
   ],
   "source": [
    "N = 10**7\n",
    "lats = (180 * (random.random(N)-1/2)).reshape(N,1)\n",
    "lons = (360 * (random.random(N)-1/2)).reshape(N,1)\n",
    "targets = np.concatenate([lats, lons], axis=1)\n",
    "\n",
    "M = 10\n",
    "length = 20\n",
    "start = time.time()\n",
    "pts = get_closest_points(paris, targets, 10, length)\n",
    "print(\"time to get closest points  for {} targets: \".format(len(targets)), time.time()-start)\n",
    "print(pts)"
   ]
  },
  {
   "cell_type": "code",
   "execution_count": 5,
   "metadata": {},
   "outputs": [
    {
     "data": {
      "text/plain": [
       "14.551915228366852"
      ]
     },
     "execution_count": 5,
     "metadata": {},
     "output_type": "execute_result"
    }
   ],
   "source": [
    "1.25**12"
   ]
  },
  {
   "cell_type": "code",
   "execution_count": null,
   "metadata": {},
   "outputs": [],
   "source": []
  }
 ],
 "metadata": {
  "kernelspec": {
   "display_name": "Python 3",
   "language": "python",
   "name": "python3"
  },
  "language_info": {
   "codemirror_mode": {
    "name": "ipython",
    "version": 3
   },
   "file_extension": ".py",
   "mimetype": "text/x-python",
   "name": "python",
   "nbconvert_exporter": "python",
   "pygments_lexer": "ipython3",
   "version": "3.7.2"
  }
 },
 "nbformat": 4,
 "nbformat_minor": 2
}
