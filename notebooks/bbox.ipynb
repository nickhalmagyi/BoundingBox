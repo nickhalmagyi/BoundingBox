{
 "cells": [
  {
   "cell_type": "code",
   "execution_count": 1,
   "metadata": {},
   "outputs": [],
   "source": [
    "import os\n",
    "os.chdir('/Users/Halmagyi/Documents/Programming/Python/geo/BoundingBox')"
   ]
  },
  {
   "cell_type": "code",
   "execution_count": 2,
   "metadata": {},
   "outputs": [],
   "source": [
    "from importlib import reload\n",
    "import boundingbox.boundingbox; reload(boundingbox.boundingbox)\n",
    "from boundingbox.boundingbox import *\n",
    "import boundingbox.distances; reload(boundingbox.distances)\n",
    "from boundingbox.distances import *\n",
    "from haversine import haversine\n",
    "\n",
    "from boundingbox.settings import *\n",
    "\n",
    "paris = (48.8566, 2.3522)\n",
    "vincennes = (48.8283, 2.4330)\n",
    "boulogne = (48.8624, 2.2492)\n",
    "st_denis = (48.9362, 2.3574)\n",
    "orleans = (47.9030, 1.9093)\n",
    "\n",
    "suva = (18.1248, 178.4501)\n",
    "wallis = (13.2959, -176.2057)\n",
    "tubuo = (18.2356, -178.8107)\n",
    "labasa = (16.4308, 179.3630)\n",
    "\n",
    "places = [vincennes, boulogne, st_denis, orleans]"
   ]
  },
  {
   "cell_type": "code",
   "execution_count": 3,
   "metadata": {},
   "outputs": [
    {
     "data": {
      "text/plain": [
       "6371"
      ]
     },
     "execution_count": 3,
     "metadata": {},
     "output_type": "execute_result"
    }
   ],
   "source": [
    "EARTH_RADIUS[KM]"
   ]
  },
  {
   "cell_type": "code",
   "execution_count": null,
   "metadata": {},
   "outputs": [],
   "source": [
    "compute_max_longitude((0,0), (np.pi/2)*EARTH_RADIUS[KM]*1.001, units=KM)"
   ]
  },
  {
   "cell_type": "code",
   "execution_count": null,
   "metadata": {},
   "outputs": [],
   "source": [
    "EARTH_RADIUS"
   ]
  },
  {
   "cell_type": "code",
   "execution_count": null,
   "metadata": {},
   "outputs": [],
   "source": [
    "# testing get_all_points_within_distance\n",
    "\n",
    "N=4\n",
    "bbox_length = make_bounding_box_length(paris, places, N)\n",
    "print(bbox_length)\n",
    "get_all_points_within_distance(paris, places, bbox_length)"
   ]
  },
  {
   "cell_type": "code",
   "execution_count": null,
   "metadata": {},
   "outputs": [],
   "source": [
    "# testing get_closest_N_points\n",
    "\n",
    "N=4\n",
    "bbox_length = make_bounding_box_length(paris, places, N)\n",
    "print(bbox_length)\n",
    "get_closest_N_points(paris, places, N, bbox_length)\n"
   ]
  },
  {
   "cell_type": "code",
   "execution_count": null,
   "metadata": {},
   "outputs": [],
   "source": [
    "targets= [[(48.8283, 2.433), 6.698235303709655],[(48.8624, 2.2492), 7.562627816217736],[(48.9362, 2.3574), 8.859287406231937]]\n",
    "closest_points_are_within_length(targets, 3, 8.859287406231937)\n"
   ]
  },
  {
   "cell_type": "markdown",
   "metadata": {},
   "source": [
    "The haversine formula is\n",
    "\n",
    "$$\\sin^2 \\left(\\frac{d}{2R}\\right) = \\sin^2\\left(\\frac{\\varphi_2-\\varphi_1}{2}\\right) + \\cos \\varphi_1 \\cos \\varphi_2 \\sin^2\\left(\\frac{\\lambda_2-\\lambda_1}{2}\\right)$$\n",
    "\n",
    "or equivalently\n",
    "\n",
    "$$\n",
    "\\cos \\left(\\frac{d}{R}\\right) = \\sin \\varphi_1 \\sin \\varphi_2  + \\cos (\\lambda_1 - \\lambda_2)\\cos \\varphi_1 \\cos \\varphi_2 \n",
    "$$\n",
    "\n",
    "where the (lat, lon) of two points are\n",
    "$$p_1 = (\\varphi_1,\\lambda_1)\\,,\\quad p_2 = (\\varphi_2,\\lambda_2)$$\n",
    "and are bounded by\n",
    "$$ -\\frac{\\pi}{2} \\leq \\varphi \\leq \\frac{\\pi}{2}$$\n",
    "$$ -\\pi \\leq \\lambda \\leq \\pi$$\n",
    "\n",
    "Note that the python package haversine takes degrees as the default arguments\n"
   ]
  },
  {
   "cell_type": "markdown",
   "metadata": {},
   "source": [
    "If two latitudes are equal, $\\varphi_1=\\varphi_2=\\varphi$ then\n",
    "\n",
    "$$d = 2 R \\, \\sin^{-1} \\cos \\varphi \\sin \\left(\\frac{\\lambda_2-\\lambda_1}{2}\\right)$$\n",
    "\n",
    "$$\\Rightarrow \\quad |\\lambda_2-\\lambda_1| = 2\\left|\\sin^{-1}\\left[ \\frac{\\sin\\left(\\frac{d}{2R}\\right)}{\\cos(\\varphi)}\\right]\\right|$$ \n",
    "\n",
    "When two longitudes are equal we have\n",
    "\n",
    "$$\\varphi_2-\\varphi_1 = \\frac{d}{R}$$"
   ]
  },
  {
   "cell_type": "markdown",
   "metadata": {},
   "source": [
    "We want a bounding box centered on $(\\varphi_0, \\lambda_0)$ of edge-size 2L.\n",
    "\n",
    "$$\\lambda_{east} = \\lambda_0 + 2\\left|\\sin^{-1}\\left[ \\frac{\\sin\\left(\\frac{L}{2R}\\right)}{\\cos(\\varphi_0)}\\right]\\right|$$\n",
    "$$\\lambda_{west} = \\lambda_0 - 2\\left|\\sin^{-1}\\left[ \\frac{\\sin\\left(\\frac{L}{2R}\\right)}{\\cos(\\varphi_0)}\\right]\\right|$$\n",
    "$$\\varphi_{north} = \\varphi_0 + \\frac{L}{R}$$\n",
    "$$\\varphi_{north} = \\varphi_0 - \\frac{L}{R}$$"
   ]
  },
  {
   "cell_type": "code",
   "execution_count": null,
   "metadata": {},
   "outputs": [],
   "source": [
    "1==1 and not 1==2"
   ]
  },
  {
   "cell_type": "code",
   "execution_count": null,
   "metadata": {},
   "outputs": [],
   "source": [
    "N=4\n",
    "bbox_length = make_bounding_box_length(paris, places, N)\n",
    "boundingbox = BoundingBox(paris, bbox_length)\n",
    "\n",
    "boundingbox.length = 3\n",
    "print(boundingbox.length)"
   ]
  },
  {
   "cell_type": "code",
   "execution_count": null,
   "metadata": {},
   "outputs": [],
   "source": []
  }
 ],
 "metadata": {
  "kernelspec": {
   "display_name": "Python 3",
   "language": "python",
   "name": "python3"
  },
  "language_info": {
   "codemirror_mode": {
    "name": "ipython",
    "version": 3
   },
   "file_extension": ".py",
   "mimetype": "text/x-python",
   "name": "python",
   "nbconvert_exporter": "python",
   "pygments_lexer": "ipython3",
   "version": "3.7.2"
  }
 },
 "nbformat": 4,
 "nbformat_minor": 2
}
