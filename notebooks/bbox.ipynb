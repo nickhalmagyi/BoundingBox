{
 "cells": [
  {
   "cell_type": "code",
   "execution_count": 1,
   "metadata": {},
   "outputs": [],
   "source": [
    "import os\n",
    "os.chdir('/Users/Halmagyi/Documents/Programming/Python/geo/BoundingBox')"
   ]
  },
  {
   "cell_type": "code",
   "execution_count": 53,
   "metadata": {},
   "outputs": [],
   "source": [
    "import numpy.random as  random\n",
    "import time\n",
    "\n",
    "from importlib import reload\n",
    "import boundingbox.boundingbox; reload(boundingbox.boundingbox)\n",
    "from boundingbox.boundingbox import *\n",
    "import boundingbox.distances; reload(boundingbox.distances)\n",
    "from boundingbox.distances import *\n",
    "from haversine import haversine\n",
    "\n",
    "from boundingbox.settings import *\n",
    "\n",
    "paris = (48.8566, 2.3522)\n",
    "vincennes = (48.8283, 2.4330)\n",
    "boulogne = (48.8624, 2.2492)\n",
    "st_denis = (48.9362, 2.3574)\n",
    "orleans = (47.9030, 1.9093)\n",
    "places_paris = np.array([vincennes, boulogne, st_denis, orleans])\n",
    "\n",
    "suva = (18.1248, 178.4501)\n",
    "wallis = (13.2959, -176.2057)\n",
    "tubuo = (18.2356, -178.8107)\n",
    "labasa = (16.4308, 179.3630)\n",
    "places_suva = [wallis, tubuo, labasa]\n",
    "\n",
    "norlisk = (69.3558, 88.1893)\n",
    "alert = (82.5018, 62.3481)\n",
    "barneo = (89.5250, -30.4500)\n",
    "bronlundhus = (82.17166598, -30.667663996)\n",
    "nagurskoye = (80.8107, 47.6499)\n",
    "russkoye = (71.1333, 149.2667)\n",
    "sachsharbour = (71.9851, 125.2465)\n",
    "places_alert = [norlisk, barneo, bronlundhus, nagurskoye, russkoye, sachsharbour]\n",
    "\n"
   ]
  },
  {
   "cell_type": "code",
   "execution_count": 83,
   "metadata": {},
   "outputs": [
    {
     "name": "stdout",
     "output_type": "stream",
     "text": [
      "[[array([48.8283,  2.433 ]) 6.698235303709655]]\n"
     ]
    }
   ],
   "source": [
    "# testing get_all_points_within_distance\n",
    "\n",
    "N=2\n",
    "pts = get_points_within_distance(paris, places_paris, 7)\n",
    "print(pts)"
   ]
  },
  {
   "cell_type": "code",
   "execution_count": 81,
   "metadata": {},
   "outputs": [
    {
     "data": {
      "text/plain": [
       "array([6.698235303709655, 7.562627816217736, 8.859287406231937,\n",
       "       110.96572196425218], dtype=object)"
      ]
     },
     "execution_count": 81,
     "metadata": {},
     "output_type": "execute_result"
    }
   ],
   "source": [
    "pts[:,1]"
   ]
  },
  {
   "cell_type": "code",
   "execution_count": 80,
   "metadata": {},
   "outputs": [
    {
     "data": {
      "text/plain": [
       "False"
      ]
     },
     "execution_count": 80,
     "metadata": {},
     "output_type": "execute_result"
    }
   ],
   "source": [
    "pts_2 = np.load(\"tests/resources/paris_distances_200.npy\")\n",
    "\n",
    "np.array_equal(pts_2,pts)"
   ]
  },
  {
   "cell_type": "code",
   "execution_count": null,
   "metadata": {},
   "outputs": [],
   "source": [
    "# testing get_closest_N_points\n",
    "\n",
    "\n"
   ]
  },
  {
   "cell_type": "code",
   "execution_count": null,
   "metadata": {},
   "outputs": [],
   "source": [
    "targets= [[(48.8283, 2.433), 6.698235303709655],[(48.8624, 2.2492), 7.562627816217736],[(48.9362, 2.3574), 8.859287406231937]]\n",
    "closest_points_are_within_length(targets, 3, 8.859287406231937)\n"
   ]
  },
  {
   "cell_type": "markdown",
   "metadata": {},
   "source": [
    "The haversine formula is\n",
    "\n",
    "$$\\sin^2 \\left(\\frac{d}{2R}\\right) = \\sin^2\\left(\\frac{\\varphi_2-\\varphi_1}{2}\\right) + \\cos \\varphi_1 \\cos \\varphi_2 \\sin^2\\left(\\frac{\\lambda_2-\\lambda_1}{2}\\right)$$\n",
    "\n",
    "or equivalently\n",
    "\n",
    "$$\n",
    "\\cos \\left(\\frac{d}{R}\\right) = \\sin \\varphi_1 \\sin \\varphi_2  + \\cos (\\lambda_1 - \\lambda_2)\\cos \\varphi_1 \\cos \\varphi_2 \n",
    "$$\n",
    "\n",
    "where the (lat, lon) of two points are\n",
    "$$p_1 = (\\varphi_1,\\lambda_1)\\,,\\quad p_2 = (\\varphi_2,\\lambda_2)$$\n",
    "and are bounded by\n",
    "$$ -\\frac{\\pi}{2} \\leq \\varphi \\leq \\frac{\\pi}{2}$$\n",
    "$$ -\\pi \\leq \\lambda \\leq \\pi$$\n",
    "\n",
    "Note that the python package haversine takes degrees as the default arguments\n"
   ]
  },
  {
   "cell_type": "markdown",
   "metadata": {},
   "source": [
    "If two latitudes are equal, $\\varphi_1=\\varphi_2=\\varphi$ then\n",
    "\n",
    "$$d = 2 R \\, \\sin^{-1} \\cos \\varphi \\sin \\left(\\frac{\\lambda_2-\\lambda_1}{2}\\right)$$\n",
    "\n",
    "$$\\Rightarrow \\quad |\\lambda_2-\\lambda_1| = 2\\left|\\sin^{-1}\\left[ \\frac{\\sin\\left(\\frac{d}{2R}\\right)}{\\cos(\\varphi)}\\right]\\right|$$ \n",
    "\n",
    "When two longitudes are equal we have\n",
    "\n",
    "$$\\varphi_2-\\varphi_1 = \\frac{d}{R}$$"
   ]
  },
  {
   "cell_type": "markdown",
   "metadata": {},
   "source": [
    "We want a bounding box centered on $(\\varphi_0, \\lambda_0)$ of edge-size 2L.\n",
    "\n",
    "$$\\lambda_{east} = \\lambda_0 + 2\\left|\\sin^{-1}\\left[ \\frac{\\sin\\left(\\frac{L}{2R}\\right)}{\\cos(\\varphi_0)}\\right]\\right|$$\n",
    "$$\\lambda_{west} = \\lambda_0 - 2\\left|\\sin^{-1}\\left[ \\frac{\\sin\\left(\\frac{L}{2R}\\right)}{\\cos(\\varphi_0)}\\right]\\right|$$\n",
    "$$\\varphi_{north} = \\varphi_0 + \\frac{L}{R}$$\n",
    "$$\\varphi_{north} = \\varphi_0 - \\frac{L}{R}$$"
   ]
  },
  {
   "cell_type": "code",
   "execution_count": null,
   "metadata": {},
   "outputs": [],
   "source": [
    "1==1 and not 1==2"
   ]
  },
  {
   "cell_type": "code",
   "execution_count": null,
   "metadata": {},
   "outputs": [],
   "source": [
    "N=1\n",
    "bbox_length = make_bounding_box_length(suva, places_suva, N)\n",
    "\n",
    "\n",
    "boundingbox = BoundingBox(suva, 100)\n",
    "print(boundingbox.bbox)\n",
    "print(bbox_length)\n",
    "get_closest_N_points(suva, places_suva, N, 100)\n"
   ]
  },
  {
   "cell_type": "code",
   "execution_count": null,
   "metadata": {},
   "outputs": [],
   "source": [
    "2/3"
   ]
  },
  {
   "cell_type": "code",
   "execution_count": null,
   "metadata": {},
   "outputs": [],
   "source": [
    "0==0.0"
   ]
  },
  {
   "cell_type": "code",
   "execution_count": null,
   "metadata": {},
   "outputs": [],
   "source": [
    "d = {}\n",
    "d['FRONT']={'north':1, 'south':3}\n",
    "d['REVERSE']={'north':2, 'south':4}"
   ]
  },
  {
   "cell_type": "code",
   "execution_count": null,
   "metadata": {},
   "outputs": [],
   "source": [
    "for k,v in d.items():\n",
    "    print(k,v)"
   ]
  },
  {
   "cell_type": "code",
   "execution_count": null,
   "metadata": {},
   "outputs": [],
   "source": [
    "ll=[]\n",
    "l2 = np.array([[1,2],[3,4]])\n",
    "ll+l2"
   ]
  },
  {
   "cell_type": "markdown",
   "metadata": {},
   "source": [
    "# alert"
   ]
  },
  {
   "cell_type": "code",
   "execution_count": 12,
   "metadata": {},
   "outputs": [
    {
     "data": {
      "text/plain": [
       "[1585.506606607707,\n",
       " 837.9940181254185,\n",
       " 1234.878022045599,\n",
       " 301.2233268867223,\n",
       " 2209.747109426272,\n",
       " 1779.855407043432]"
      ]
     },
     "execution_count": 12,
     "metadata": {},
     "output_type": "execute_result"
    }
   ],
   "source": [
    "norlisk = (69.3558, 88.1893)\n",
    "alert = (82.5018, 62.3481)\n",
    "barneo = (89.5250, -30.4500)\n",
    "bronlundhus = (82.17166598, -30.667663996)\n",
    "nagurskoye = (80.8107, 47.6499)\n",
    "russkoye = (71.1333, 149.2667)\n",
    "sachsharbour = (71.9851, 125.2465)\n",
    "places_alert = np.array([norlisk, barneo, bronlundhus, nagurskoye, russkoye, sachsharbour])\n",
    "\n",
    "distances_alert = [haversine(alert, place) for place in places_alert]\n",
    "distances_alert"
   ]
  },
  {
   "cell_type": "code",
   "execution_count": 13,
   "metadata": {},
   "outputs": [
    {
     "name": "stdout",
     "output_type": "stream",
     "text": [
      "{'front': {'north': 83.40112160591873, 'south': 81.60247839408127, 'east': 69.25615658653567, 'west': 55.44004341346434}}\n",
      "boundingbox.bbox:  {'reverse': {'east': -90.0, 'west': 90.0, 'north': 90.0, 'south': 81.00422457211346}, 'front': {'east': 90.0, 'west': -90.0, 'north': 90.0, 'south': 70.8106191230565}}\n",
      "east < west:  [[ 69.3558      88.1893    ]\n",
      " [ 89.525      -30.45      ]\n",
      " [ 82.17166598 -30.667664  ]\n",
      " [ 80.8107      47.6499    ]\n",
      " [ 71.1333     149.2667    ]\n",
      " [ 71.9851     125.2465    ]]\n",
      "targets_filtered:  [array([ 89.525, -30.45 ]), array([ 82.17166598, -30.667664  ])]\n",
      "west < east:  [[ 69.3558      88.1893    ]\n",
      " [ 89.525      -30.45      ]\n",
      " [ 82.17166598 -30.667664  ]\n",
      " [ 80.8107      47.6499    ]\n",
      " [ 71.1333     149.2667    ]\n",
      " [ 71.9851     125.2465    ]]\n",
      "targets_filtered:  [array([ 89.525, -30.45 ]), array([ 82.17166598, -30.667664  ]), array([ 89.525, -30.45 ]), array([ 82.17166598, -30.667664  ]), array([80.8107, 47.6499])]\n"
     ]
    },
    {
     "data": {
      "text/plain": [
       "array([[array([80.8107, 47.6499]), 301.2233268867223],\n",
       "       [array([ 89.525, -30.45 ]), 837.9940181254185],\n",
       "       [array([ 89.525, -30.45 ]), 837.9940181254185]], dtype=object)"
      ]
     },
     "execution_count": 13,
     "metadata": {},
     "output_type": "execute_result"
    }
   ],
   "source": [
    "N=3\n",
    "boundingbox = BoundingBox(alert, 100)\n",
    "print(boundingbox.bbox)\n",
    "get_closest_points(alert, places_alert, N, 1300)\n"
   ]
  },
  {
   "cell_type": "code",
   "execution_count": 23,
   "metadata": {},
   "outputs": [
    {
     "name": "stdout",
     "output_type": "stream",
     "text": [
      "[[ 69.3558      88.1893    ]\n",
      " [ 89.525      -30.45      ]\n",
      " [ 82.17166598 -30.667664  ]\n",
      " [ 80.8107      47.6499    ]\n",
      " [ 71.1333     149.2667    ]\n",
      " [ 71.9851     125.2465    ]]\n",
      "[False  True  True  True False False]\n",
      "[False False False False False False]\n"
     ]
    }
   ],
   "source": [
    "print(places_alert)\n",
    "bbox = {'reverse': {'east': -90.0, 'west': 90.0, 'north': 90.0, 'south': 81.00422457211346}, 'front': {'east': 90.0, 'west': -90.0, 'north': 90.0, 'south': 70.8106191230565}}\n",
    "def target_in_bounding_box_front(target, bbox):\n",
    "    return (target[0] >= bbox[SOUTH]) & (target[0] <= bbox[NORTH]) & (target[1] >= bbox[WEST]) & (target[1] <= bbox[EAST])\n",
    "\n",
    "def target_in_bounding_box_reverse(target, bbox):\n",
    "    return 1 == (target[0] >= bbox[SOUTH]) & (target[0] <= bbox[NORTH]) & ~((target[1] >= bbox[EAST]) & (target[1] <= bbox[WEST]))\n",
    "\n",
    "    \n",
    "print(target_in_bounding_box_front(np.transpose(places_alert), bbox[FRONT]))\n",
    "print(target_in_bounding_box_reverse(np.transpose(places_alert), bbox[REVERSE]))\n"
   ]
  },
  {
   "cell_type": "code",
   "execution_count": 15,
   "metadata": {},
   "outputs": [
    {
     "data": {
      "text/plain": [
       "array([[ 69.3558    ,  88.1893    ],\n",
       "       [ 89.525     , -30.45      ],\n",
       "       [ 82.17166598, -30.667664  ],\n",
       "       [ 80.8107    ,  47.6499    ],\n",
       "       [ 71.1333    , 149.2667    ],\n",
       "       [ 71.9851    , 125.2465    ]])"
      ]
     },
     "execution_count": 15,
     "metadata": {},
     "output_type": "execute_result"
    }
   ],
   "source": [
    "places_alert"
   ]
  },
  {
   "cell_type": "code",
   "execution_count": null,
   "metadata": {},
   "outputs": [],
   "source": [
    "# distance from alert to the north pole\n",
    "haversine(alert, (90, 0))"
   ]
  },
  {
   "cell_type": "code",
   "execution_count": null,
   "metadata": {},
   "outputs": [],
   "source": [
    "alert"
   ]
  },
  {
   "cell_type": "code",
   "execution_count": null,
   "metadata": {},
   "outputs": [],
   "source": [
    "haversine(alert, (90, 0))"
   ]
  },
  {
   "cell_type": "code",
   "execution_count": null,
   "metadata": {},
   "outputs": [],
   "source": [
    "haversine((85.02036896289921, 0), (90, 0))"
   ]
  },
  {
   "cell_type": "code",
   "execution_count": null,
   "metadata": {},
   "outputs": [],
   "source": [
    "N=2\n",
    "\n",
    "boundingbox = BoundingBox(alert, 1000)\n",
    "\n",
    "print(boundingbox.bbox)\n",
    "get_closest_N_points(alert, places_alert, N, 1000)\n"
   ]
  },
  {
   "cell_type": "code",
   "execution_count": null,
   "metadata": {},
   "outputs": [],
   "source": [
    "{'reverse': {'east': -90.0, 'west': 90.0, 'north': 90.0, 'south': 73.6554533217098}, 'front': {'east': 90.0, 'west': -90.0, 'north': 90.0, 'south': 64.5621212895553}}\n"
   ]
  },
  {
   "cell_type": "code",
   "execution_count": null,
   "metadata": {},
   "outputs": [],
   "source": [
    "bbox_1 = {'east': -90.0, 'west': 90.0, 'north': 90.0, 'south': 73.6554533217098}\n",
    "bbox_2 = {'east': 90.0, 'west': -90.0, 'north': 90.0, 'south': 64.5621212895553}\n"
   ]
  },
  {
   "cell_type": "code",
   "execution_count": null,
   "metadata": {},
   "outputs": [],
   "source": [
    "def func(latlon, minlat, maxlat, minlon, maxlon):\n",
    "    return (latlon[0] >= minlat) & (latlon[0] <= maxlat) & (latlon[1] >= minlon) & (latlon[1] <= maxlon) \n",
    "bbox = bbox_2\n",
    "targets = np.transpose(np.array([nagurskoye, nagurskoye, nagurskoye]))\n",
    "func(targets, bbox[SOUTH], bbox[NORTH], bbox[WEST], bbox[EAST])"
   ]
  },
  {
   "cell_type": "code",
   "execution_count": null,
   "metadata": {},
   "outputs": [],
   "source": []
  },
  {
   "cell_type": "code",
   "execution_count": null,
   "metadata": {},
   "outputs": [],
   "source": [
    "def target_in_bounding_box_front(target, bbox):\n",
    "    return (target[0] >= bbox[SOUTH]) & (target[0] <= bbox[NORTH]) & \\\n",
    "            (target[1] >= bbox[WEST]) & (target[1] <= bbox[EAST])\n",
    "\n",
    "targets = np.array([nagurskoye, nagurskoye, nagurskoye])\n",
    "print(targets)\n",
    "targets[target_in_bounding_box_front(np.transpose(targets), bbox)]"
   ]
  },
  {
   "cell_type": "code",
   "execution_count": null,
   "metadata": {},
   "outputs": [],
   "source": [
    "targets.reshape(2,3)"
   ]
  },
  {
   "cell_type": "code",
   "execution_count": null,
   "metadata": {},
   "outputs": [],
   "source": [
    "(1>0) & ~((2>1) & (2>3))"
   ]
  },
  {
   "cell_type": "code",
   "execution_count": null,
   "metadata": {},
   "outputs": [],
   "source": [
    "True & (False & True)"
   ]
  },
  {
   "cell_type": "markdown",
   "metadata": {},
   "source": [
    "# Large Random Target set"
   ]
  },
  {
   "cell_type": "code",
   "execution_count": 26,
   "metadata": {},
   "outputs": [],
   "source": [
    "N = 10**6\n",
    "lats = (180 * (random.random(N)-1/2)).reshape(N,1)\n",
    "lons = (360 * (random.random(N)-1/2)).reshape(N,1)\n",
    "targets = np.concatenate([lats, lons], axis=1)"
   ]
  },
  {
   "cell_type": "code",
   "execution_count": 31,
   "metadata": {},
   "outputs": [
    {
     "name": "stdout",
     "output_type": "stream",
     "text": [
      "2813.3693634728893\n",
      "0.032294273376464844\n",
      "[[array([48.8236226 ,  2.27171725]) 6.938258155111937]\n",
      " [array([48.95410407,  2.44080835]) 12.628966498124754]\n",
      " [array([48.74570065,  2.25252166]) 14.330501106273678]\n",
      " [array([48.84791785,  2.13746012]) 15.741432622785931]]\n"
     ]
    }
   ],
   "source": [
    "N=4\n",
    "bbox_length = make_bounding_box_length(paris, targets, N)\n",
    "print(bbox_length)\n",
    "start = time.time()\n",
    "pts = get_closest_points(paris, targets, N, 30)\n",
    "print(time.time()-start)\n",
    "print(pts)"
   ]
  },
  {
   "cell_type": "code",
   "execution_count": null,
   "metadata": {},
   "outputs": [],
   "source": [
    "bbox = {'reverse': {'east': -90.0, 'west': 90.0, 'north': 90.0, 'south': 39.156748256370705}, 'front': {'east': 90.0, 'west': -90.0, 'north': 90.0, 'south': -12.750277357138522}}\n",
    "\n",
    "def target_in_bounding_box_front(target, bbox):\n",
    "    return (target[0] >= bbox[SOUTH]) & (target[0] <= bbox[NORTH]) & (target[1] >= bbox[WEST]) & (target[1] <= bbox[EAST])\n",
    "\n",
    "def target_in_bounding_box_reverse(target, bbox):\n",
    "    return 1 == (target[0] >= bbox[SOUTH]) & (target[0] <= bbox[NORTH]) & ~((target[1] >= bbox[WEST]) & (target[1] <= bbox[EAST]))\n",
    "\n",
    "\n",
    "print(target_in_bounding_box_front(paris, bbox[FRONT]))\n",
    "print(target_in_bounding_box_front(paris, bbox[REVERSE]))\n",
    "print(target_in_bounding_box_reverse(paris, bbox[FRONT]))\n",
    "print(target_in_bounding_box_reverse(paris, bbox[REVERSE]))\n"
   ]
  },
  {
   "cell_type": "code",
   "execution_count": 30,
   "metadata": {},
   "outputs": [
    {
     "name": "stdout",
     "output_type": "stream",
     "text": [
      "2813.3693634728893\n",
      "0.4313070774078369\n",
      "[[array([48.8236226 ,  2.27171725]) 6.938258155111937]\n",
      " [array([48.95410407,  2.44080835]) 12.628966498124754]\n",
      " [array([48.74570065,  2.25252166]) 14.330501106273678]\n",
      " [array([48.84791785,  2.13746012]) 15.741432622785931]]\n"
     ]
    }
   ],
   "source": [
    "N=4\n",
    "bbox_length = make_bounding_box_length(paris, targets, N)\n",
    "print(bbox_length)\n",
    "start = time.time()\n",
    "pts = get_closest_points(paris, targets, N, bbox_length)\n",
    "print(time.time()-start)\n",
    "print(pts)"
   ]
  },
  {
   "cell_type": "code",
   "execution_count": 39,
   "metadata": {},
   "outputs": [
    {
     "ename": "ValueError",
     "evalue": "The truth value of an array with more than one element is ambiguous. Use a.any() or a.all()",
     "output_type": "error",
     "traceback": [
      "\u001b[0;31m---------------------------------------------------------------------------\u001b[0m",
      "\u001b[0;31mValueError\u001b[0m                                Traceback (most recent call last)",
      "\u001b[0;32m<ipython-input-39-bc293fe8a996>\u001b[0m in \u001b[0;36m<module>\u001b[0;34m\u001b[0m\n\u001b[1;32m      1\u001b[0m \u001b[0mtargets_dist\u001b[0m \u001b[0;34m=\u001b[0m \u001b[0mpts\u001b[0m\u001b[0;34m\u001b[0m\u001b[0;34m\u001b[0m\u001b[0m\n\u001b[0;32m----> 2\u001b[0;31m \u001b[0mtargets_dist\u001b[0m\u001b[0;34m[\u001b[0m\u001b[0;36m1\u001b[0m\u001b[0;34m]\u001b[0m \u001b[0;34m>\u001b[0m \u001b[0;36m10\u001b[0m\u001b[0;34m\u001b[0m\u001b[0;34m\u001b[0m\u001b[0m\n\u001b[0m",
      "\u001b[0;31mValueError\u001b[0m: The truth value of an array with more than one element is ambiguous. Use a.any() or a.all()"
     ]
    }
   ],
   "source": [
    "targets_dist = pts\n",
    "targets_dist[1] > 10"
   ]
  },
  {
   "cell_type": "code",
   "execution_count": 49,
   "metadata": {},
   "outputs": [
    {
     "data": {
      "text/plain": [
       "array([False, False,  True,  True,  True])"
      ]
     },
     "execution_count": 49,
     "metadata": {},
     "output_type": "execute_result"
    }
   ],
   "source": [
    "arr1 = np.array([1,2,3,4,5]).reshape(5,1)\n",
    "arr2 = np.array([6,7,8,9,10]).reshape(5,1)\n",
    "arr3 = np.transpose(np.concatenate([arr1, arr2], axis=1))\n",
    "arr3[1] > 7"
   ]
  },
  {
   "cell_type": "code",
   "execution_count": 52,
   "metadata": {},
   "outputs": [
    {
     "data": {
      "text/plain": [
       "array([[array([48.95410407,  2.44080835]), 12.628966498124754],\n",
       "       [array([48.74570065,  2.25252166]), 14.330501106273678],\n",
       "       [array([48.84791785,  2.13746012]), 15.741432622785931]],\n",
       "      dtype=object)"
      ]
     },
     "execution_count": 52,
     "metadata": {},
     "output_type": "execute_result"
    }
   ],
   "source": [
    "targets_dist_tr = np.transpose(targets_dist)\n",
    "targets_dist[targets_dist_tr[1]>10]"
   ]
  },
  {
   "cell_type": "code",
   "execution_count": null,
   "metadata": {},
   "outputs": [],
   "source": []
  }
 ],
 "metadata": {
  "kernelspec": {
   "display_name": "Python 3",
   "language": "python",
   "name": "python3"
  },
  "language_info": {
   "codemirror_mode": {
    "name": "ipython",
    "version": 3
   },
   "file_extension": ".py",
   "mimetype": "text/x-python",
   "name": "python",
   "nbconvert_exporter": "python",
   "pygments_lexer": "ipython3",
   "version": "3.7.2"
  }
 },
 "nbformat": 4,
 "nbformat_minor": 2
}
