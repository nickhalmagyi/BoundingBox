{
 "cells": [
  {
   "cell_type": "code",
   "execution_count": 22,
   "metadata": {},
   "outputs": [],
   "source": [
    "import os\n",
    "os.chdir('/Users/Halmagyi/Documents/Programming/Python/geo/BoundingBox')"
   ]
  },
  {
   "cell_type": "code",
   "execution_count": 109,
   "metadata": {},
   "outputs": [],
   "source": [
    "from importlib import reload\n",
    "import boundingbox.boundingbox; reload(boundingbox.boundingbox)\n",
    "from boundingbox.boundingbox import *\n",
    "import boundingbox.distances; reload(boundingbox.distances)\n",
    "from boundingbox.distances import *\n",
    "from haversine import haversine\n",
    "\n",
    "from boundingbox.settings import *\n",
    "\n",
    "paris = (48.8566, 2.3522)\n",
    "vincennes = (48.8283, 2.4330)\n",
    "boulogne = (48.8624, 2.2492)\n",
    "st_denis = (48.9362, 2.3574)\n",
    "orleans = (47.9030, 1.9093)\n",
    "places = [vincennes, boulogne, st_denis, orleans]\n",
    "\n",
    "suva = (18.1248, 178.4501)\n",
    "wallis = (13.2959, -176.2057)\n",
    "tubuo = (18.2356, -178.8107)\n",
    "labasa = (16.4308, 179.3630)\n",
    "places_suva = [wallis, tubuo, labasa]\n",
    "\n",
    "norlisk = (69.3558, 88.1893)\n",
    "alert = (82.5018, 62.3481)\n",
    "barneo = (89.5250, -30.4500)\n",
    "bronlundhus = (82.17166598, -30.667663996)\n",
    "nagurskoye = (80.8107, 47.6499)\n",
    "russkoye = (71.1333, 149.2667)\n",
    "sachsharbour = (71.9851, 125.2465)\n",
    "places_alert = [norlisk, barneo, bronlundhus, nagurskoye, russkoye, sachsharbour]\n",
    "\n"
   ]
  },
  {
   "cell_type": "code",
   "execution_count": 110,
   "metadata": {},
   "outputs": [
    {
     "name": "stdout",
     "output_type": "stream",
     "text": [
      "6.698235303709655\n"
     ]
    },
    {
     "data": {
      "text/plain": [
       "[array([(48.8283, 2.433), 6.698235303709655], dtype=object)]"
      ]
     },
     "execution_count": 110,
     "metadata": {},
     "output_type": "execute_result"
    }
   ],
   "source": [
    "# testing get_all_points_within_distance\n",
    "\n",
    "N=2\n",
    "bbox_length = make_bounding_box_length(paris, places, N)\n",
    "print(bbox_length)\n",
    "get_all_points_within_distance(paris, places, bbox_length)"
   ]
  },
  {
   "cell_type": "code",
   "execution_count": 111,
   "metadata": {},
   "outputs": [
    {
     "name": "stdout",
     "output_type": "stream",
     "text": [
      "6.698235303709655\n",
      "targets_filtered:  [(48.8283, 2.433)]\n",
      "in while loop\n"
     ]
    },
    {
     "data": {
      "text/plain": [
       "array([[(48.8283, 2.433), 6.698235303709655],\n",
       "       [(48.8624, 2.2492), 7.562627816217736]], dtype=object)"
      ]
     },
     "execution_count": 111,
     "metadata": {},
     "output_type": "execute_result"
    }
   ],
   "source": [
    "# testing get_closest_N_points\n",
    "\n",
    "N=2\n",
    "bbox_length = make_bounding_box_length(paris, places, N)\n",
    "print(bbox_length)\n",
    "get_closest_N_points(paris, places, N, bbox_length)\n"
   ]
  },
  {
   "cell_type": "code",
   "execution_count": null,
   "metadata": {},
   "outputs": [],
   "source": [
    "targets= [[(48.8283, 2.433), 6.698235303709655],[(48.8624, 2.2492), 7.562627816217736],[(48.9362, 2.3574), 8.859287406231937]]\n",
    "closest_points_are_within_length(targets, 3, 8.859287406231937)\n"
   ]
  },
  {
   "cell_type": "markdown",
   "metadata": {},
   "source": [
    "The haversine formula is\n",
    "\n",
    "$$\\sin^2 \\left(\\frac{d}{2R}\\right) = \\sin^2\\left(\\frac{\\varphi_2-\\varphi_1}{2}\\right) + \\cos \\varphi_1 \\cos \\varphi_2 \\sin^2\\left(\\frac{\\lambda_2-\\lambda_1}{2}\\right)$$\n",
    "\n",
    "or equivalently\n",
    "\n",
    "$$\n",
    "\\cos \\left(\\frac{d}{R}\\right) = \\sin \\varphi_1 \\sin \\varphi_2  + \\cos (\\lambda_1 - \\lambda_2)\\cos \\varphi_1 \\cos \\varphi_2 \n",
    "$$\n",
    "\n",
    "where the (lat, lon) of two points are\n",
    "$$p_1 = (\\varphi_1,\\lambda_1)\\,,\\quad p_2 = (\\varphi_2,\\lambda_2)$$\n",
    "and are bounded by\n",
    "$$ -\\frac{\\pi}{2} \\leq \\varphi \\leq \\frac{\\pi}{2}$$\n",
    "$$ -\\pi \\leq \\lambda \\leq \\pi$$\n",
    "\n",
    "Note that the python package haversine takes degrees as the default arguments\n"
   ]
  },
  {
   "cell_type": "markdown",
   "metadata": {},
   "source": [
    "If two latitudes are equal, $\\varphi_1=\\varphi_2=\\varphi$ then\n",
    "\n",
    "$$d = 2 R \\, \\sin^{-1} \\cos \\varphi \\sin \\left(\\frac{\\lambda_2-\\lambda_1}{2}\\right)$$\n",
    "\n",
    "$$\\Rightarrow \\quad |\\lambda_2-\\lambda_1| = 2\\left|\\sin^{-1}\\left[ \\frac{\\sin\\left(\\frac{d}{2R}\\right)}{\\cos(\\varphi)}\\right]\\right|$$ \n",
    "\n",
    "When two longitudes are equal we have\n",
    "\n",
    "$$\\varphi_2-\\varphi_1 = \\frac{d}{R}$$"
   ]
  },
  {
   "cell_type": "markdown",
   "metadata": {},
   "source": [
    "We want a bounding box centered on $(\\varphi_0, \\lambda_0)$ of edge-size 2L.\n",
    "\n",
    "$$\\lambda_{east} = \\lambda_0 + 2\\left|\\sin^{-1}\\left[ \\frac{\\sin\\left(\\frac{L}{2R}\\right)}{\\cos(\\varphi_0)}\\right]\\right|$$\n",
    "$$\\lambda_{west} = \\lambda_0 - 2\\left|\\sin^{-1}\\left[ \\frac{\\sin\\left(\\frac{L}{2R}\\right)}{\\cos(\\varphi_0)}\\right]\\right|$$\n",
    "$$\\varphi_{north} = \\varphi_0 + \\frac{L}{R}$$\n",
    "$$\\varphi_{north} = \\varphi_0 - \\frac{L}{R}$$"
   ]
  },
  {
   "cell_type": "code",
   "execution_count": null,
   "metadata": {},
   "outputs": [],
   "source": [
    "1==1 and not 1==2"
   ]
  },
  {
   "cell_type": "code",
   "execution_count": 48,
   "metadata": {},
   "outputs": [
    {
     "name": "stdout",
     "output_type": "stream",
     "text": [
      "{'front': {'north': 19.02412160591873, 'south': 17.22547839408127, 'east': 179.39637881145336, 'west': 177.50382118854662}}\n",
      "250.7393177294397\n"
     ]
    },
    {
     "data": {
      "text/plain": [
       "array([[(16.4308, 179.363), 211.83859207052956]], dtype=object)"
      ]
     },
     "execution_count": 48,
     "metadata": {},
     "output_type": "execute_result"
    }
   ],
   "source": [
    "N=1\n",
    "bbox_length = make_bounding_box_length(suva, places_suva, N)\n",
    "\n",
    "\n",
    "boundingbox = BoundingBox(suva, 100)\n",
    "print(boundingbox.bbox)\n",
    "print(bbox_length)\n",
    "get_closest_N_points(suva, places_suva, N, 100)\n"
   ]
  },
  {
   "cell_type": "code",
   "execution_count": null,
   "metadata": {},
   "outputs": [],
   "source": [
    "2/3"
   ]
  },
  {
   "cell_type": "code",
   "execution_count": null,
   "metadata": {},
   "outputs": [],
   "source": [
    "0==0.0"
   ]
  },
  {
   "cell_type": "code",
   "execution_count": null,
   "metadata": {},
   "outputs": [],
   "source": [
    "d = {}\n",
    "d['FRONT']={'north':1, 'south':3}\n",
    "d['REVERSE']={'north':2, 'south':4}"
   ]
  },
  {
   "cell_type": "code",
   "execution_count": null,
   "metadata": {},
   "outputs": [],
   "source": [
    "for k,v in d.items():\n",
    "    print(k,v)"
   ]
  },
  {
   "cell_type": "code",
   "execution_count": 12,
   "metadata": {},
   "outputs": [
    {
     "ename": "ValueError",
     "evalue": "operands could not be broadcast together with shapes (0,) (2,2) ",
     "output_type": "error",
     "traceback": [
      "\u001b[0;31m---------------------------------------------------------------------------\u001b[0m",
      "\u001b[0;31mValueError\u001b[0m                                Traceback (most recent call last)",
      "\u001b[0;32m<ipython-input-12-64f2a64d38e3>\u001b[0m in \u001b[0;36m<module>\u001b[0;34m\u001b[0m\n\u001b[1;32m      1\u001b[0m \u001b[0mll\u001b[0m\u001b[0;34m=\u001b[0m\u001b[0;34m[\u001b[0m\u001b[0;34m]\u001b[0m\u001b[0;34m\u001b[0m\u001b[0;34m\u001b[0m\u001b[0m\n\u001b[1;32m      2\u001b[0m \u001b[0ml2\u001b[0m \u001b[0;34m=\u001b[0m \u001b[0mnp\u001b[0m\u001b[0;34m.\u001b[0m\u001b[0marray\u001b[0m\u001b[0;34m(\u001b[0m\u001b[0;34m[\u001b[0m\u001b[0;34m[\u001b[0m\u001b[0;36m1\u001b[0m\u001b[0;34m,\u001b[0m\u001b[0;36m2\u001b[0m\u001b[0;34m]\u001b[0m\u001b[0;34m,\u001b[0m\u001b[0;34m[\u001b[0m\u001b[0;36m3\u001b[0m\u001b[0;34m,\u001b[0m\u001b[0;36m4\u001b[0m\u001b[0;34m]\u001b[0m\u001b[0;34m]\u001b[0m\u001b[0;34m)\u001b[0m\u001b[0;34m\u001b[0m\u001b[0;34m\u001b[0m\u001b[0m\n\u001b[0;32m----> 3\u001b[0;31m \u001b[0mll\u001b[0m\u001b[0;34m+\u001b[0m\u001b[0ml2\u001b[0m\u001b[0;34m\u001b[0m\u001b[0;34m\u001b[0m\u001b[0m\n\u001b[0m",
      "\u001b[0;31mValueError\u001b[0m: operands could not be broadcast together with shapes (0,) (2,2) "
     ]
    }
   ],
   "source": [
    "ll=[]\n",
    "l2 = np.array([[1,2],[3,4]])\n",
    "ll+l2"
   ]
  },
  {
   "cell_type": "markdown",
   "metadata": {},
   "source": [
    "# alert"
   ]
  },
  {
   "cell_type": "code",
   "execution_count": 105,
   "metadata": {},
   "outputs": [
    {
     "name": "stdout",
     "output_type": "stream",
     "text": [
      "1994.801258234852\n",
      "{'reverse': {'east': -90.0, 'west': 90.0, 'north': 90.0, 'south': 73.6554533217098}, 'front': {'east': 90.0, 'west': -90.0, 'north': 90.0, 'south': 64.5621212895553}}\n",
      "bbox:  {'east': -90.0, 'west': 90.0, 'north': 90.0, 'south': 73.6554533217098} target:  (69.3558, 88.1893) lon:  True\n",
      "west > east:  bbox:  {'east': -90.0, 'west': 90.0, 'north': 90.0, 'south': 73.6554533217098} target:  (69.3558, 88.1893) lon:  False\n",
      "bbox:  {'east': -90.0, 'west': 90.0, 'north': 90.0, 'south': 73.6554533217098} target:  (89.525, -30.45) lon:  True\n",
      "west > east:  bbox:  {'east': -90.0, 'west': 90.0, 'north': 90.0, 'south': 73.6554533217098} target:  (89.525, -30.45) lon:  False\n",
      "bbox:  {'east': -90.0, 'west': 90.0, 'north': 90.0, 'south': 73.6554533217098} target:  (82.17166598, -30.667663996) lon:  True\n",
      "west > east:  bbox:  {'east': -90.0, 'west': 90.0, 'north': 90.0, 'south': 73.6554533217098} target:  (82.17166598, -30.667663996) lon:  False\n",
      "bbox:  {'east': -90.0, 'west': 90.0, 'north': 90.0, 'south': 73.6554533217098} target:  (80.8107, 47.6499) lon:  True\n",
      "west > east:  bbox:  {'east': -90.0, 'west': 90.0, 'north': 90.0, 'south': 73.6554533217098} target:  (80.8107, 47.6499) lon:  False\n",
      "bbox:  {'east': -90.0, 'west': 90.0, 'north': 90.0, 'south': 73.6554533217098} target:  (71.1333, 149.2667) lon:  False\n",
      "west > east:  bbox:  {'east': -90.0, 'west': 90.0, 'north': 90.0, 'south': 73.6554533217098} target:  (71.1333, 149.2667) lon:  True\n",
      "bbox:  {'east': -90.0, 'west': 90.0, 'north': 90.0, 'south': 73.6554533217098} target:  (71.9851, 125.2465) lon:  False\n",
      "west > east:  bbox:  {'east': -90.0, 'west': 90.0, 'north': 90.0, 'south': 73.6554533217098} target:  (71.9851, 125.2465) lon:  True\n",
      "bbox:  {'east': 90.0, 'west': -90.0, 'north': 90.0, 'south': 64.5621212895553} target:  (69.3558, 88.1893) lon:  True\n",
      "bbox:  {'east': 90.0, 'west': -90.0, 'north': 90.0, 'south': 64.5621212895553} target:  (89.525, -30.45) lon:  True\n",
      "bbox:  {'east': 90.0, 'west': -90.0, 'north': 90.0, 'south': 64.5621212895553} target:  (82.17166598, -30.667663996) lon:  True\n",
      "bbox:  {'east': 90.0, 'west': -90.0, 'north': 90.0, 'south': 64.5621212895553} target:  (80.8107, 47.6499) lon:  True\n",
      "bbox:  {'east': 90.0, 'west': -90.0, 'north': 90.0, 'south': 64.5621212895553} target:  (71.1333, 149.2667) lon:  False\n",
      "bbox:  {'east': 90.0, 'west': -90.0, 'north': 90.0, 'south': 64.5621212895553} target:  (71.9851, 125.2465) lon:  False\n",
      "targets_filtered:  [(69.3558, 88.1893), (89.525, -30.45), (82.17166598, -30.667663996), (80.8107, 47.6499)]\n"
     ]
    },
    {
     "data": {
      "text/plain": [
       "array([[(80.8107, 47.6499), 301.2233268867223],\n",
       "       [(89.525, -30.45), 837.9940181254185],\n",
       "       [(82.17166598, -30.667663996), 1234.878022045599],\n",
       "       [(69.3558, 88.1893), 1585.506606607707]], dtype=object)"
      ]
     },
     "execution_count": 105,
     "metadata": {},
     "output_type": "execute_result"
    }
   ],
   "source": [
    "N=4\n",
    "bbox_length = make_bounding_box_length(alert, places_alert, N)\n",
    "print(bbox_length)\n",
    "boundingbox = BoundingBox(alert, bbox_length)\n",
    "\n",
    "print(boundingbox.bbox)\n",
    "get_closest_N_points(alert, places_alert, N, bbox_length)\n"
   ]
  },
  {
   "cell_type": "code",
   "execution_count": null,
   "metadata": {},
   "outputs": [],
   "source": [
    "{'reverse': {'east': -90.0, 'west': 90.0, 'north': 90.0, 'south': 73.6554533217098}, 'front': {'east': 90.0, 'west': -90.0, 'north': 90.0, 'south': 64.5621212895553}}\n"
   ]
  },
  {
   "cell_type": "code",
   "execution_count": 103,
   "metadata": {},
   "outputs": [
    {
     "name": "stdout",
     "output_type": "stream",
     "text": [
      "bbox:  {'east': -90.0, 'west': 90.0, 'north': 90.0, 'south': 73.6554533217098} target:  (80.8107, 47.6499) lon:  False\n",
      "west > east:  bbox:  {'east': -90.0, 'west': 90.0, 'north': 90.0, 'south': 73.6554533217098} target:  (80.8107, 47.6499) lon:  True\n"
     ]
    },
    {
     "data": {
      "text/plain": [
       "True"
      ]
     },
     "execution_count": 103,
     "metadata": {},
     "output_type": "execute_result"
    }
   ],
   "source": [
    "bbox_1 = {'east': -90.0, 'west': 90.0, 'north': 90.0, 'south': 73.6554533217098}\n",
    "bbox_2 = {'east': 90.0, 'west': -90.0, 'north': 90.0, 'south': 64.5621212895553}\n",
    "boundingbox.target_in_bounding_box(bbox_1, nagurskoye)"
   ]
  },
  {
   "cell_type": "code",
   "execution_count": 79,
   "metadata": {},
   "outputs": [
    {
     "data": {
      "text/plain": [
       "(80.8107, 47.6499)"
      ]
     },
     "execution_count": 79,
     "metadata": {},
     "output_type": "execute_result"
    }
   ],
   "source": [
    "nagurskoye"
   ]
  },
  {
   "cell_type": "code",
   "execution_count": 107,
   "metadata": {},
   "outputs": [
    {
     "name": "stdout",
     "output_type": "stream",
     "text": [
      "bbox:  {'east': 90.0, 'west': -90.0, 'north': 90.0, 'south': 64.5621212895553} target:  (80.8107, 47.6499) lon:  True\n"
     ]
    },
    {
     "data": {
      "text/plain": [
       "True"
      ]
     },
     "execution_count": 107,
     "metadata": {},
     "output_type": "execute_result"
    }
   ],
   "source": [
    "boundingbox.target_in_bounding_box(bbox_2, nagurskoye)"
   ]
  },
  {
   "cell_type": "code",
   "execution_count": 82,
   "metadata": {},
   "outputs": [
    {
     "name": "stdout",
     "output_type": "stream",
     "text": [
      "target:  (80.8107, 47.6499)\n",
      "west < east:  {'east': 90.0, 'west': -90.0, 'north': 90.0, 'south': 64.5621212895553} lon:  True\n"
     ]
    },
    {
     "data": {
      "text/plain": [
       "True"
      ]
     },
     "execution_count": 82,
     "metadata": {},
     "output_type": "execute_result"
    }
   ],
   "source": [
    "boundingbox.target_in_bounding_box(bbox_2, nagurskoye)"
   ]
  },
  {
   "cell_type": "code",
   "execution_count": 85,
   "metadata": {},
   "outputs": [
    {
     "data": {
      "text/plain": [
       "False"
      ]
     },
     "execution_count": 85,
     "metadata": {},
     "output_type": "execute_result"
    }
   ],
   "source": [
    "a = True\n",
    "b = not a\n",
    "b"
   ]
  },
  {
   "cell_type": "code",
   "execution_count": 90,
   "metadata": {},
   "outputs": [
    {
     "data": {
      "text/plain": [
       "True"
      ]
     },
     "execution_count": 90,
     "metadata": {},
     "output_type": "execute_result"
    }
   ],
   "source": [
    "a = False\n",
    "b = not a\n",
    "b"
   ]
  },
  {
   "cell_type": "code",
   "execution_count": 100,
   "metadata": {},
   "outputs": [
    {
     "data": {
      "text/plain": [
       "True"
      ]
     },
     "execution_count": 100,
     "metadata": {},
     "output_type": "execute_result"
    }
   ],
   "source": [
    "a = False\n",
    "a = not a\n",
    "a"
   ]
  },
  {
   "cell_type": "code",
   "execution_count": 96,
   "metadata": {},
   "outputs": [],
   "source": []
  },
  {
   "cell_type": "code",
   "execution_count": null,
   "metadata": {},
   "outputs": [],
   "source": []
  }
 ],
 "metadata": {
  "kernelspec": {
   "display_name": "Python 3",
   "language": "python",
   "name": "python3"
  },
  "language_info": {
   "codemirror_mode": {
    "name": "ipython",
    "version": 3
   },
   "file_extension": ".py",
   "mimetype": "text/x-python",
   "name": "python",
   "nbconvert_exporter": "python",
   "pygments_lexer": "ipython3",
   "version": "3.7.2"
  }
 },
 "nbformat": 4,
 "nbformat_minor": 2
}
