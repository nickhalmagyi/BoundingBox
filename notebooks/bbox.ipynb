{
 "cells": [
  {
   "cell_type": "code",
   "execution_count": 1,
   "metadata": {},
   "outputs": [],
   "source": [
    "import os\n",
    "os.chdir('/Users/Halmagyi/Documents/Programming/Python/geo/BoundingBox')"
   ]
  },
  {
   "cell_type": "code",
   "execution_count": 6,
   "metadata": {},
   "outputs": [
    {
     "ename": "ModuleNotFoundError",
     "evalue": "No module named 'boundingbox'",
     "output_type": "error",
     "traceback": [
      "\u001b[0;31m---------------------------------------------------------------------------\u001b[0m",
      "\u001b[0;31mModuleNotFoundError\u001b[0m                       Traceback (most recent call last)",
      "\u001b[0;32m<ipython-input-6-c464fc69ff71>\u001b[0m in \u001b[0;36m<module>\u001b[0;34m\u001b[0m\n\u001b[1;32m      1\u001b[0m \u001b[0mos\u001b[0m\u001b[0;34m.\u001b[0m\u001b[0mchdir\u001b[0m\u001b[0;34m(\u001b[0m\u001b[0;34m'/Users/Halmagyi/Documents/Programming/Python/geo'\u001b[0m\u001b[0;34m)\u001b[0m\u001b[0;34m\u001b[0m\u001b[0;34m\u001b[0m\u001b[0m\n\u001b[0;32m----> 2\u001b[0;31m \u001b[0;32mfrom\u001b[0m \u001b[0mBoundingBox\u001b[0m \u001b[0;32mimport\u001b[0m \u001b[0mget_closest_points\u001b[0m\u001b[0;34m\u001b[0m\u001b[0;34m\u001b[0m\u001b[0m\n\u001b[0m",
      "\u001b[0;32m~/Documents/Programming/Python/geo/BoundingBox/__init__.py\u001b[0m in \u001b[0;36m<module>\u001b[0;34m\u001b[0m\n\u001b[0;32m----> 1\u001b[0;31m \u001b[0;32mfrom\u001b[0m \u001b[0mboundingbox\u001b[0m\u001b[0;34m.\u001b[0m\u001b[0mdistances\u001b[0m \u001b[0;32mimport\u001b[0m \u001b[0mget_closest_points\u001b[0m\u001b[0;34m,\u001b[0m \u001b[0mget_points_within_distance\u001b[0m\u001b[0;34m\u001b[0m\u001b[0;34m\u001b[0m\u001b[0m\n\u001b[0m",
      "\u001b[0;31mModuleNotFoundError\u001b[0m: No module named 'boundingbox'"
     ]
    }
   ],
   "source": [
    "os.chdir('/Users/Halmagyi/Documents/Programming/Python/geo')\n",
    "from BoundingBox import get_closest_points"
   ]
  },
  {
   "cell_type": "code",
   "execution_count": null,
   "metadata": {},
   "outputs": [],
   "source": [
    "from importlib import reload\n",
    "import boundingbox.boundingbox; reload(boundingbox.boundingbox)\n",
    "from boundingbox.boundingbox import *\n",
    "import boundingbox.distances; reload(boundingbox.distances)\n",
    "from boundingbox.distances import *\n",
    "from haversine import haversine\n",
    "\n",
    "from boundingbox.settings import *\n",
    "\n",
    "paris = (48.8566, 2.3522)\n",
    "vincennes = (48.8283, 2.4330)\n",
    "boulogne = (48.8624, 2.2492)\n",
    "st_denis = (48.9362, 2.3574)\n",
    "orleans = (47.9030, 1.9093)\n",
    "places = [vincennes, boulogne, st_denis, orleans]\n",
    "\n",
    "suva = (18.1248, 178.4501)\n",
    "wallis = (13.2959, -176.2057)\n",
    "tubuo = (18.2356, -178.8107)\n",
    "labasa = (16.4308, 179.3630)\n",
    "places_suva = [wallis, tubuo, labasa]\n",
    "\n",
    "norlisk = (69.3558, 88.1893)\n",
    "alert = (82.5018, 62.3481)\n",
    "barneo = (89.5250, -30.4500)\n",
    "bronlundhus = (82.17166598, -30.667663996)\n",
    "nagurskoye = (80.8107, 47.6499)\n",
    "russkoye = (71.1333, 149.2667)\n",
    "sachsharbour = (71.9851, 125.2465)\n",
    "places_alert = [norlisk, barneo, bronlundhus, nagurskoye, russkoye, sachsharbour]\n",
    "\n"
   ]
  },
  {
   "cell_type": "code",
   "execution_count": null,
   "metadata": {},
   "outputs": [],
   "source": [
    "# testing get_all_points_within_distance\n",
    "\n",
    "N=2\n",
    "bbox_length = make_bounding_box_length(paris, places, N)\n",
    "print(bbox_length)\n",
    "get_all_points_within_distance(paris, places, bbox_length)"
   ]
  },
  {
   "cell_type": "code",
   "execution_count": null,
   "metadata": {},
   "outputs": [],
   "source": [
    "# testing get_closest_N_points\n",
    "\n",
    "N=2\n",
    "bbox_length = make_bounding_box_length(paris, places, N)\n",
    "print(bbox_length)\n",
    "get_closest_N_points(paris, places, N, bbox_length)\n"
   ]
  },
  {
   "cell_type": "code",
   "execution_count": null,
   "metadata": {},
   "outputs": [],
   "source": [
    "targets= [[(48.8283, 2.433), 6.698235303709655],[(48.8624, 2.2492), 7.562627816217736],[(48.9362, 2.3574), 8.859287406231937]]\n",
    "closest_points_are_within_length(targets, 3, 8.859287406231937)\n"
   ]
  },
  {
   "cell_type": "markdown",
   "metadata": {},
   "source": [
    "The haversine formula is\n",
    "\n",
    "$$\\sin^2 \\left(\\frac{d}{2R}\\right) = \\sin^2\\left(\\frac{\\varphi_2-\\varphi_1}{2}\\right) + \\cos \\varphi_1 \\cos \\varphi_2 \\sin^2\\left(\\frac{\\lambda_2-\\lambda_1}{2}\\right)$$\n",
    "\n",
    "or equivalently\n",
    "\n",
    "$$\n",
    "\\cos \\left(\\frac{d}{R}\\right) = \\sin \\varphi_1 \\sin \\varphi_2  + \\cos (\\lambda_1 - \\lambda_2)\\cos \\varphi_1 \\cos \\varphi_2 \n",
    "$$\n",
    "\n",
    "where the (lat, lon) of two points are\n",
    "$$p_1 = (\\varphi_1,\\lambda_1)\\,,\\quad p_2 = (\\varphi_2,\\lambda_2)$$\n",
    "and are bounded by\n",
    "$$ -\\frac{\\pi}{2} \\leq \\varphi \\leq \\frac{\\pi}{2}$$\n",
    "$$ -\\pi \\leq \\lambda \\leq \\pi$$\n",
    "\n",
    "Note that the python package haversine takes degrees as the default arguments\n"
   ]
  },
  {
   "cell_type": "markdown",
   "metadata": {},
   "source": [
    "If two latitudes are equal, $\\varphi_1=\\varphi_2=\\varphi$ then\n",
    "\n",
    "$$d = 2 R \\, \\sin^{-1} \\cos \\varphi \\sin \\left(\\frac{\\lambda_2-\\lambda_1}{2}\\right)$$\n",
    "\n",
    "$$\\Rightarrow \\quad |\\lambda_2-\\lambda_1| = 2\\left|\\sin^{-1}\\left[ \\frac{\\sin\\left(\\frac{d}{2R}\\right)}{\\cos(\\varphi)}\\right]\\right|$$ \n",
    "\n",
    "When two longitudes are equal we have\n",
    "\n",
    "$$\\varphi_2-\\varphi_1 = \\frac{d}{R}$$"
   ]
  },
  {
   "cell_type": "markdown",
   "metadata": {},
   "source": [
    "We want a bounding box centered on $(\\varphi_0, \\lambda_0)$ of edge-size 2L.\n",
    "\n",
    "$$\\lambda_{east} = \\lambda_0 + 2\\left|\\sin^{-1}\\left[ \\frac{\\sin\\left(\\frac{L}{2R}\\right)}{\\cos(\\varphi_0)}\\right]\\right|$$\n",
    "$$\\lambda_{west} = \\lambda_0 - 2\\left|\\sin^{-1}\\left[ \\frac{\\sin\\left(\\frac{L}{2R}\\right)}{\\cos(\\varphi_0)}\\right]\\right|$$\n",
    "$$\\varphi_{north} = \\varphi_0 + \\frac{L}{R}$$\n",
    "$$\\varphi_{north} = \\varphi_0 - \\frac{L}{R}$$"
   ]
  },
  {
   "cell_type": "code",
   "execution_count": null,
   "metadata": {},
   "outputs": [],
   "source": [
    "1==1 and not 1==2"
   ]
  },
  {
   "cell_type": "code",
   "execution_count": null,
   "metadata": {},
   "outputs": [],
   "source": [
    "N=1\n",
    "bbox_length = make_bounding_box_length(suva, places_suva, N)\n",
    "\n",
    "\n",
    "boundingbox = BoundingBox(suva, 100)\n",
    "print(boundingbox.bbox)\n",
    "print(bbox_length)\n",
    "get_closest_N_points(suva, places_suva, N, 100)\n"
   ]
  },
  {
   "cell_type": "code",
   "execution_count": null,
   "metadata": {},
   "outputs": [],
   "source": [
    "2/3"
   ]
  },
  {
   "cell_type": "code",
   "execution_count": null,
   "metadata": {},
   "outputs": [],
   "source": [
    "0==0.0"
   ]
  },
  {
   "cell_type": "code",
   "execution_count": null,
   "metadata": {},
   "outputs": [],
   "source": [
    "d = {}\n",
    "d['FRONT']={'north':1, 'south':3}\n",
    "d['REVERSE']={'north':2, 'south':4}"
   ]
  },
  {
   "cell_type": "code",
   "execution_count": null,
   "metadata": {},
   "outputs": [],
   "source": [
    "for k,v in d.items():\n",
    "    print(k,v)"
   ]
  },
  {
   "cell_type": "code",
   "execution_count": null,
   "metadata": {},
   "outputs": [],
   "source": [
    "ll=[]\n",
    "l2 = np.array([[1,2],[3,4]])\n",
    "ll+l2"
   ]
  },
  {
   "cell_type": "markdown",
   "metadata": {},
   "source": [
    "# alert"
   ]
  },
  {
   "cell_type": "code",
   "execution_count": null,
   "metadata": {},
   "outputs": [],
   "source": [
    "norlisk = (69.3558, 88.1893)\n",
    "alert = (82.5018, 62.3481)\n",
    "barneo = (89.5250, -30.4500)\n",
    "bronlundhus = (82.17166598, -30.667663996)\n",
    "nagurskoye = (80.8107, 47.6499)\n",
    "russkoye = (71.1333, 149.2667)\n",
    "sachsharbour = (71.9851, 125.2465)\n",
    "places_alert = [norlisk, barneo, bronlundhus, nagurskoye, russkoye, sachsharbour]\n",
    "\n",
    "distances_alert = [haversine(alert, place) for place in places_alert]\n",
    "distances_alert"
   ]
  },
  {
   "cell_type": "code",
   "execution_count": null,
   "metadata": {},
   "outputs": [],
   "source": [
    "N=7\n",
    "boundingbox = BoundingBox(alert, 100)\n",
    "print(boundingbox.bbox)\n",
    "get_closest_N_points(alert, places_alert, N, 1300)\n"
   ]
  },
  {
   "cell_type": "code",
   "execution_count": null,
   "metadata": {},
   "outputs": [],
   "source": [
    "# distance from alert to the north pole\n",
    "haversine(alert, (90, 0))"
   ]
  },
  {
   "cell_type": "code",
   "execution_count": null,
   "metadata": {},
   "outputs": [],
   "source": [
    "alert"
   ]
  },
  {
   "cell_type": "code",
   "execution_count": null,
   "metadata": {},
   "outputs": [],
   "source": [
    "haversine(alert, (90, 0))"
   ]
  },
  {
   "cell_type": "code",
   "execution_count": null,
   "metadata": {},
   "outputs": [],
   "source": [
    "haversine((85.02036896289921, 0), (90, 0))"
   ]
  },
  {
   "cell_type": "code",
   "execution_count": null,
   "metadata": {},
   "outputs": [],
   "source": [
    "N=2\n",
    "\n",
    "boundingbox = BoundingBox(alert, 1000)\n",
    "\n",
    "print(boundingbox.bbox)\n",
    "get_closest_N_points(alert, places_alert, N, 1000)\n"
   ]
  },
  {
   "cell_type": "code",
   "execution_count": null,
   "metadata": {},
   "outputs": [],
   "source": [
    "{'reverse': {'east': -90.0, 'west': 90.0, 'north': 90.0, 'south': 73.6554533217098}, 'front': {'east': 90.0, 'west': -90.0, 'north': 90.0, 'south': 64.5621212895553}}\n"
   ]
  },
  {
   "cell_type": "code",
   "execution_count": null,
   "metadata": {},
   "outputs": [],
   "source": [
    "bbox_1 = {'east': -90.0, 'west': 90.0, 'north': 90.0, 'south': 73.6554533217098}\n",
    "bbox_2 = {'east': 90.0, 'west': -90.0, 'north': 90.0, 'south': 64.5621212895553}\n",
    "boundingbox.target_in_bounding_box(bbox_1, nagurskoye)"
   ]
  },
  {
   "cell_type": "code",
   "execution_count": null,
   "metadata": {},
   "outputs": [],
   "source": [
    "nagurskoye"
   ]
  },
  {
   "cell_type": "code",
   "execution_count": null,
   "metadata": {},
   "outputs": [],
   "source": [
    "boundingbox.target_in_bounding_box(bbox_2, nagurskoye)"
   ]
  },
  {
   "cell_type": "code",
   "execution_count": null,
   "metadata": {},
   "outputs": [],
   "source": [
    "boundingbox.target_in_bounding_box(bbox_2, nagurskoye)"
   ]
  },
  {
   "cell_type": "code",
   "execution_count": null,
   "metadata": {},
   "outputs": [],
   "source": [
    "a = True\n",
    "b = not a\n",
    "b"
   ]
  },
  {
   "cell_type": "code",
   "execution_count": null,
   "metadata": {},
   "outputs": [],
   "source": [
    "a = False\n",
    "b = not a\n",
    "b"
   ]
  },
  {
   "cell_type": "code",
   "execution_count": null,
   "metadata": {},
   "outputs": [],
   "source": [
    "a = False\n",
    "a = not a\n",
    "a"
   ]
  },
  {
   "cell_type": "code",
   "execution_count": null,
   "metadata": {},
   "outputs": [],
   "source": []
  },
  {
   "cell_type": "code",
   "execution_count": null,
   "metadata": {},
   "outputs": [],
   "source": []
  }
 ],
 "metadata": {
  "kernelspec": {
   "display_name": "Python 3",
   "language": "python",
   "name": "python3"
  },
  "language_info": {
   "codemirror_mode": {
    "name": "ipython",
    "version": 3
   },
   "file_extension": ".py",
   "mimetype": "text/x-python",
   "name": "python",
   "nbconvert_exporter": "python",
   "pygments_lexer": "ipython3",
   "version": "3.7.2"
  }
 },
 "nbformat": 4,
 "nbformat_minor": 2
}
