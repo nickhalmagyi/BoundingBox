{
 "cells": [
  {
   "cell_type": "code",
   "execution_count": 2,
   "metadata": {},
   "outputs": [],
   "source": [
    "import os\n",
    "os.chdir('/Users/Halmagyi/Documents/Programming/Python/geo/BoundingBox')"
   ]
  },
  {
   "cell_type": "code",
   "execution_count": 9,
   "metadata": {},
   "outputs": [],
   "source": [
    "import numpy as np\n",
    "import numpy.random as  random\n",
    "import time\n",
    "from boundingbox.distances import get_points_within_distance\n",
    "\n",
    "paris = (48.8566, 2.3522)"
   ]
  },
  {
   "cell_type": "code",
   "execution_count": 15,
   "metadata": {},
   "outputs": [
    {
     "name": "stdout",
     "output_type": "stream",
     "text": [
      "time to get points within distance for 10000000 targets:  0.10938620567321777\n",
      "[[array([48.83441265,  2.31515638]) 3.665341855360102]\n",
      " [array([48.88256355,  2.3836683 ]) 3.692208458910913]\n",
      " [array([48.89145032,  2.31185674]) 4.87057473075636]\n",
      " [array([48.84462648,  2.41948034]) 5.099703710142658]\n",
      " [array([48.79150249,  2.32481707]) 7.510979849014582]\n",
      " [array([48.78925608,  2.37887639]) 7.738791814752525]\n",
      " [array([48.93572835,  2.30792551]) 9.375086596186476]]\n"
     ]
    }
   ],
   "source": [
    "N = 10**7\n",
    "lats = (180 * (random.random(N)-1/2)).reshape(N,1)\n",
    "lons = (360 * (random.random(N)-1/2)).reshape(N,1)\n",
    "targets = np.concatenate([lats, lons], axis=1)\n",
    "\n",
    "start = time.time()\n",
    "pts = get_points_within_distance(paris, targets, 10)\n",
    "print(\"time to get points within distance for {} targets: \".format(len(targets)), time.time()-start)\n",
    "print(pts)"
   ]
  },
  {
   "cell_type": "code",
   "execution_count": null,
   "metadata": {},
   "outputs": [],
   "source": []
  }
 ],
 "metadata": {
  "kernelspec": {
   "display_name": "Python 3",
   "language": "python",
   "name": "python3"
  },
  "language_info": {
   "codemirror_mode": {
    "name": "ipython",
    "version": 3
   },
   "file_extension": ".py",
   "mimetype": "text/x-python",
   "name": "python",
   "nbconvert_exporter": "python",
   "pygments_lexer": "ipython3",
   "version": "3.7.2"
  }
 },
 "nbformat": 4,
 "nbformat_minor": 2
}
