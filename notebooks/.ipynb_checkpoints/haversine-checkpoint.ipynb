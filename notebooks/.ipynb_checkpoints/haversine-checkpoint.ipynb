{
 "cells": [
  {
   "cell_type": "code",
   "execution_count": 12,
   "metadata": {},
   "outputs": [],
   "source": [
    "import numpy as np\n",
    "import pandas as pd\n",
    "from haversine import haversine\n",
    "from vincenty import vincenty\n",
    "import numpy.random as  random\n",
    "import time\n",
    "NORTH = 'north'\n",
    "SOUTH = 'south'\n",
    "EAST = 'east'\n",
    "WEST = 'west'"
   ]
  },
  {
   "cell_type": "code",
   "execution_count": 3,
   "metadata": {},
   "outputs": [
    {
     "name": "stdout",
     "output_type": "stream",
     "text": [
      "3.09 µs ± 141 ns per loop (mean ± std. dev. of 7 runs, 100000 loops each)\n"
     ]
    }
   ],
   "source": [
    "paris = (48.8566, 2.3522)\n",
    "vincennes = (48.8283, 2.4330)\n",
    "sachsharbour = (71.9851, 125.2465)\n",
    "\n",
    "%timeit haversine(paris, sachsharbour)\n"
   ]
  },
  {
   "cell_type": "code",
   "execution_count": 7,
   "metadata": {},
   "outputs": [
    {
     "name": "stdout",
     "output_type": "stream",
     "text": [
      "2.872283935546875\n"
     ]
    }
   ],
   "source": [
    "N = 10**6\n",
    "lats = 180 * (random.random(N)-1/2)\n",
    "lons = 360 * (random.random(N)-1/2)\n",
    "locations = list(zip(lats, lons))\n",
    "start = time.time()\n",
    "distances = [haversine(paris, location) for location in locations]\n",
    "print(time.time() - start)"
   ]
  },
  {
   "cell_type": "code",
   "execution_count": 16,
   "metadata": {},
   "outputs": [],
   "source": [
    "def target_in_bounding_box(bbox, target):\n",
    "    lat = (target[0] >= bbox[SOUTH]) and (target[0] <= bbox[NORTH])\n",
    "    lon = (target[1] >= bbox[WEST]) and (target[1] <= bbox[EAST])\n",
    "    return lat and lon    "
   ]
  },
  {
   "cell_type": "code",
   "execution_count": 17,
   "metadata": {},
   "outputs": [
    {
     "name": "stdout",
     "output_type": "stream",
     "text": [
      "812 ns ± 10.4 ns per loop (mean ± std. dev. of 7 runs, 1000000 loops each)\n"
     ]
    }
   ],
   "source": [
    "bbox = {}\n",
    "bbox[NORTH] = 10\n",
    "bbox[SOUTH] = -10\n",
    "bbox[EAST] = 10\n",
    "bbox[WEST] = -10\n",
    "\n",
    "%timeit target_in_bounding_box(bbox, paris)"
   ]
  },
  {
   "cell_type": "code",
   "execution_count": 54,
   "metadata": {},
   "outputs": [
    {
     "name": "stdout",
     "output_type": "stream",
     "text": [
      "1.34 s ± 0 ns per loop (mean ± std. dev. of 1 run, 1 loop each)\n"
     ]
    }
   ],
   "source": [
    "N = 10**7\n",
    "lats = 180 * (random.random(N)-1/2)\n",
    "lons = 360 * (random.random(N)-1/2)\n",
    "locations = np.array(list(zip(lats, lons)))\n",
    "\n",
    "%timeit -r 1 np.sort(lats)"
   ]
  },
  {
   "cell_type": "code",
   "execution_count": 55,
   "metadata": {},
   "outputs": [
    {
     "name": "stdout",
     "output_type": "stream",
     "text": [
      "84.3 ms ± 2.24 ms per loop (mean ± std. dev. of 3 runs, 10 loops each)\n",
      "7.15 s ± 366 ms per loop (mean ± std. dev. of 3 runs, 1 loop each)\n"
     ]
    }
   ],
   "source": [
    "def func(lat, lon, minlat, maxlat, minlon, maxlon):\n",
    "    return (lat >= minlat) & (lat <= maxlat) & (lon >= minlon) & (lon <= maxlon) \n",
    "vfunc = np.vectorize(func)\n",
    "\n",
    "%timeit -r 3 locations[func(lats, lons, -10,10,-10,10)]\n",
    "%timeit -r 3 locations[vfunc(lats, lons, -10,10,-10,10)]"
   ]
  },
  {
   "cell_type": "code",
   "execution_count": 46,
   "metadata": {},
   "outputs": [
    {
     "data": {
      "text/plain": [
       "1000"
      ]
     },
     "execution_count": 46,
     "metadata": {},
     "output_type": "execute_result"
    }
   ],
   "source": [
    "len(func(lats, lons, -10,10,-10,10))"
   ]
  },
  {
   "cell_type": "code",
   "execution_count": 45,
   "metadata": {},
   "outputs": [
    {
     "data": {
      "text/plain": [
       "1000"
      ]
     },
     "execution_count": 45,
     "metadata": {},
     "output_type": "execute_result"
    }
   ],
   "source": [
    "len(locations)"
   ]
  },
  {
   "cell_type": "code",
   "execution_count": 51,
   "metadata": {},
   "outputs": [
    {
     "data": {
      "text/plain": [
       "array([[ 7.70282118,  6.54732677],\n",
       "       [ 1.77625542, -1.74543736],\n",
       "       [-1.2281572 , -5.11651845],\n",
       "       [-5.07100742, -0.63779804],\n",
       "       [ 0.58874639,  3.06685142],\n",
       "       [ 8.24333295,  3.45201416]])"
      ]
     },
     "execution_count": 51,
     "metadata": {},
     "output_type": "execute_result"
    }
   ],
   "source": [
    "locations[vfunc(lats, lons, -10,10,-10,10)]"
   ]
  },
  {
   "cell_type": "code",
   "execution_count": null,
   "metadata": {},
   "outputs": [],
   "source": []
  }
 ],
 "metadata": {
  "kernelspec": {
   "display_name": "Python 3",
   "language": "python",
   "name": "python3"
  },
  "language_info": {
   "codemirror_mode": {
    "name": "ipython",
    "version": 3
   },
   "file_extension": ".py",
   "mimetype": "text/x-python",
   "name": "python",
   "nbconvert_exporter": "python",
   "pygments_lexer": "ipython3",
   "version": "3.7.2"
  }
 },
 "nbformat": 4,
 "nbformat_minor": 2
}
