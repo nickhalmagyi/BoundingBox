{
 "cells": [
  {
   "cell_type": "code",
   "execution_count": 2,
   "metadata": {},
   "outputs": [],
   "source": [
    "import numpy as np\n",
    "import pandas as pd\n",
    "from haversine import haversine\n",
    "from vincenty import vincenty\n",
    "import numpy.random as  random\n",
    "import time\n",
    "NORTH = 'north'\n",
    "SOUTH = 'south'\n",
    "EAST = 'east'\n",
    "WEST = 'west'"
   ]
  },
  {
   "cell_type": "code",
   "execution_count": null,
   "metadata": {},
   "outputs": [],
   "source": [
    "paris = (48.8566, 2.3522)\n",
    "vincennes = (48.8283, 2.4330)\n",
    "sachsharbour = (71.9851, 125.2465)\n",
    "\n",
    "%timeit haversine(paris, sachsharbour)\n"
   ]
  },
  {
   "cell_type": "code",
   "execution_count": null,
   "metadata": {},
   "outputs": [],
   "source": [
    "N = 10**6\n",
    "lats = 180 * (random.random(N)-1/2)\n",
    "lons = 360 * (random.random(N)-1/2)\n",
    "locations = list(zip(lats, lons))\n",
    "start = time.time()\n",
    "distances = [haversine(paris, location) for location in locations]\n",
    "print(time.time() - start)"
   ]
  },
  {
   "cell_type": "code",
   "execution_count": null,
   "metadata": {},
   "outputs": [],
   "source": [
    "def target_in_bounding_box(bbox, target):\n",
    "    lat = (target[0] >= bbox[SOUTH]) and (target[0] <= bbox[NORTH])\n",
    "    lon = (target[1] >= bbox[WEST]) and (target[1] <= bbox[EAST])\n",
    "    return lat and lon    "
   ]
  },
  {
   "cell_type": "code",
   "execution_count": null,
   "metadata": {},
   "outputs": [],
   "source": [
    "bbox = {}\n",
    "bbox[NORTH] = 10\n",
    "bbox[SOUTH] = -10\n",
    "bbox[EAST] = 10\n",
    "bbox[WEST] = -10\n",
    "\n",
    "%timeit target_in_bounding_box(bbox, paris)"
   ]
  },
  {
   "cell_type": "code",
   "execution_count": 62,
   "metadata": {},
   "outputs": [],
   "source": [
    "N = 10**6\n",
    "lats = (180 * (random.random(N)-1/2)).reshape(N,1)\n",
    "lons = (360 * (random.random(N)-1/2)).reshape(N,1)\n",
    "locations = np.concatenate([lats, lons], axis=1)"
   ]
  },
  {
   "cell_type": "code",
   "execution_count": 52,
   "metadata": {},
   "outputs": [
    {
     "data": {
      "text/plain": [
       "array([[ 30.35204674, 152.11191555],\n",
       "       [ 14.76172305,  99.03630934],\n",
       "       [  4.41065417,  34.53208451]])"
      ]
     },
     "execution_count": 52,
     "metadata": {},
     "output_type": "execute_result"
    }
   ],
   "source": [
    "locations[:3]"
   ]
  },
  {
   "cell_type": "code",
   "execution_count": 64,
   "metadata": {},
   "outputs": [],
   "source": [
    "def func(latlon, minlat, maxlat, minlon, maxlon):\n",
    "    return (latlon[0] >= minlat) & (latlon[0] <= maxlat) & (latlon[1] >= minlon) & (latlon[1] <= maxlon) "
   ]
  },
  {
   "cell_type": "code",
   "execution_count": 66,
   "metadata": {},
   "outputs": [
    {
     "data": {
      "text/plain": [
       "array([False, False, False, ..., False, False, False])"
      ]
     },
     "execution_count": 66,
     "metadata": {},
     "output_type": "execute_result"
    }
   ],
   "source": [
    "func(locations.reshape(2, N),  -10,10,-10,10)"
   ]
  },
  {
   "cell_type": "code",
   "execution_count": 59,
   "metadata": {},
   "outputs": [],
   "source": [
    "locations = locations.reshape(2, N)"
   ]
  },
  {
   "cell_type": "code",
   "execution_count": 63,
   "metadata": {},
   "outputs": [
    {
     "name": "stdout",
     "output_type": "stream",
     "text": [
      "6.84 ms ± 84.5 µs per loop (mean ± std. dev. of 2 runs, 100 loops each)\n"
     ]
    }
   ],
   "source": [
    "%timeit -r 2 locations[func(locations.reshape(2, len(locations)), -10,10,-10,10)]\n",
    "# %timeit -r 3 locations[vfunc(lats, lons, -10,10,-10,10)]"
   ]
  },
  {
   "cell_type": "code",
   "execution_count": null,
   "metadata": {},
   "outputs": [],
   "source": []
  },
  {
   "cell_type": "code",
   "execution_count": 51,
   "metadata": {},
   "outputs": [
    {
     "name": "stdout",
     "output_type": "stream",
     "text": [
      "3.08 s ± 78.1 ms per loop (mean ± std. dev. of 2 runs, 1 loop each)\n"
     ]
    }
   ],
   "source": [
    "%timeit -r 2 locations[(locations>(5,5)) & (locations<(10,10))]"
   ]
  },
  {
   "cell_type": "code",
   "execution_count": 48,
   "metadata": {},
   "outputs": [
    {
     "data": {
      "text/plain": [
       "False"
      ]
     },
     "execution_count": 48,
     "metadata": {},
     "output_type": "execute_result"
    }
   ],
   "source": [
    "(1,1)>(2,0)"
   ]
  },
  {
   "cell_type": "code",
   "execution_count": null,
   "metadata": {},
   "outputs": [],
   "source": [
    "locations[vfunc(lats, lons, -10,10,-10,10)]"
   ]
  },
  {
   "cell_type": "code",
   "execution_count": null,
   "metadata": {},
   "outputs": [],
   "source": []
  }
 ],
 "metadata": {
  "kernelspec": {
   "display_name": "Python 3",
   "language": "python",
   "name": "python3"
  },
  "language_info": {
   "codemirror_mode": {
    "name": "ipython",
    "version": 3
   },
   "file_extension": ".py",
   "mimetype": "text/x-python",
   "name": "python",
   "nbconvert_exporter": "python",
   "pygments_lexer": "ipython3",
   "version": "3.7.2"
  }
 },
 "nbformat": 4,
 "nbformat_minor": 2
}
